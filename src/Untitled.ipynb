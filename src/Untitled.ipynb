{
 "cells": [
  {
   "cell_type": "code",
   "execution_count": 19,
   "id": "e2c7f815",
   "metadata": {},
   "outputs": [
    {
     "name": "stdout",
     "output_type": "stream",
     "text": [
      "[[39 21 13]\n",
      " [58 34 29]]\n",
      "[[5 4 2]]\n",
      "[[44 25 15]\n",
      " [63 38 31]]\n",
      "[5 4]\n"
     ]
    }
   ],
   "source": [
    "import numpy as np\n",
    "\n",
    "# Generate array 'a' of shape (10, 20) with random elements\n",
    "a = np.random.randint(0, 10, (2,3))\n",
    "\n",
    "# Generate array 'b' of shape (20, 20) with random elements\n",
    "b = np.random.randint(0, 10, (3, 3))\n",
    "\n",
    "# Generate array 'c' of shape (20, 1) with random elements\n",
    "c = np.random.randint(0, 10, (1, 3))\n",
    "\n",
    "print(a@b)\n",
    "print(c)\n",
    "print(a@b + c)\n",
    "print(c[0, 0:2])"
   ]
  }
 ],
 "metadata": {
  "kernelspec": {
   "display_name": "Python 3 (ipykernel)",
   "language": "python",
   "name": "python3"
  },
  "language_info": {
   "codemirror_mode": {
    "name": "ipython",
    "version": 3
   },
   "file_extension": ".py",
   "mimetype": "text/x-python",
   "name": "python",
   "nbconvert_exporter": "python",
   "pygments_lexer": "ipython3",
   "version": "3.9.12"
  }
 },
 "nbformat": 4,
 "nbformat_minor": 5
}
